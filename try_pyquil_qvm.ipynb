{
 "cells": [
  {
   "cell_type": "code",
   "execution_count": 10,
   "metadata": {},
   "outputs": [],
   "source": [
    "from pyquil import Program\n",
    "from pyquil.gates import *\n",
    "from pyquil.api import QVMConnection\n",
    "import numpy as np"
   ]
  },
  {
   "cell_type": "code",
   "execution_count": 2,
   "metadata": {},
   "outputs": [
    {
     "name": "stdout",
     "output_type": "stream",
     "text": [
      "(0.7071067812+0j)|00> + (0.7071067812+0j)|11>\n"
     ]
    }
   ],
   "source": [
    "from pyquil.api import WavefunctionSimulator\n",
    "wfn = WavefunctionSimulator().wavefunction(program)\n",
    "print(wfn)"
   ]
  },
  {
   "cell_type": "code",
   "execution_count": 32,
   "metadata": {},
   "outputs": [],
   "source": [
    "from pyquil import list_quantum_computers\n",
    "# list_quantum_computers()"
   ]
  },
  {
   "cell_type": "code",
   "execution_count": 16,
   "metadata": {},
   "outputs": [],
   "source": [
    "# Creating GHZ\n",
    "\n",
    "def ghz_state(qubits):\n",
    "    \"\"\"Create a GHZ state on the given list of qubits by applying\n",
    "    a Hadamard gate to the first qubit followed by a chain of CNOTs\n",
    "    \"\"\"\n",
    "    program = Program()\n",
    "    program += H(qubits[0])\n",
    "    for q1, q2 in zip(qubits, qubits[1:]):\n",
    "        program += CNOT(q1, q2)\n",
    "    return program"
   ]
  },
  {
   "cell_type": "code",
   "execution_count": 17,
   "metadata": {},
   "outputs": [
    {
     "name": "stdout",
     "output_type": "stream",
     "text": [
      "H 0\n",
      "CNOT 0 1\n",
      "CNOT 1 2\n",
      "\n"
     ]
    }
   ],
   "source": [
    "program = ghz_state(qubits=[0, 1, 2])\n",
    "print(program)"
   ]
  },
  {
   "cell_type": "code",
   "execution_count": 34,
   "metadata": {},
   "outputs": [
    {
     "name": "stderr",
     "output_type": "stream",
     "text": [
      "/home/jordan/.local/lib/python3.6/site-packages/ipykernel_launcher.py:6: FutureWarning: arrays to stack must be passed as a \"sequence\" type such as list or tuple. Support for non-sequence iterables such as generators is deprecated as of NumPy 1.16 and will raise an error in the future.\n",
      "  \n"
     ]
    },
    {
     "data": {
      "text/plain": [
       "array([[0, 0, 0],\n",
       "       [1, 1, 1],\n",
       "       [1, 0, 0],\n",
       "       [0, 0, 0],\n",
       "       [0, 0, 0],\n",
       "       [0, 0, 0],\n",
       "       [1, 1, 1],\n",
       "       [0, 0, 0],\n",
       "       [0, 0, 0],\n",
       "       [0, 0, 0],\n",
       "       [1, 1, 1],\n",
       "       [0, 0, 1],\n",
       "       [0, 0, 0],\n",
       "       [0, 1, 1],\n",
       "       [1, 1, 0],\n",
       "       [1, 1, 1],\n",
       "       [0, 0, 0],\n",
       "       [1, 1, 1],\n",
       "       [0, 0, 0],\n",
       "       [1, 1, 1]])"
      ]
     },
     "execution_count": 34,
     "metadata": {},
     "output_type": "execute_result"
    }
   ],
   "source": [
    "from pyquil import get_qc\n",
    "qc = get_qc('3q-noisy-qvm')\n",
    "# qc = get_qc('Aspen-0-16Q-A-noisy-qvm')\n",
    "\n",
    "bitstrings = qc.run_and_measure(program, trials=20)\n",
    "bitstring_array = np.vstack(bitstrings[q] for q in qc.qubits()).T\n",
    "bitstring_array"
   ]
  },
  {
   "cell_type": "code",
   "execution_count": 38,
   "metadata": {},
   "outputs": [],
   "source": [
    "qubit = 0\n",
    "\n",
    "p = Program()\n",
    "ro = p.declare(\"ro\", \"BIT\", 1)\n",
    "theta_ref = p.declare(\"theta\", \"REAL\")\n",
    "\n",
    "p += RX(np.pi / 2, qubit)\n",
    "p += RZ(theta_ref, qubit)\n",
    "p += RX(-np.pi / 2, qubit)\n",
    "\n",
    "p += MEASURE(qubit, ro[0])\n",
    "\n",
    "# Get a Quantum Virtual Machine to simulate execution\n",
    "qc = get_qc(\"1q-qvm\")\n",
    "executable = qc.compile(p)\n",
    "\n",
    "# Somewhere to store each list of results\n",
    "parametric_measurements = []\n",
    "\n",
    "for theta in np.linspace(0, 2 * np.pi, 100):\n",
    "    # Get the results of the run with the value we want to execute with\n",
    "    bitstrings = qc.run(executable, {'theta': [theta]})\n",
    "    # Store our results\n",
    "    parametric_measurements.append(bitstrings)\n",
    "\n",
    "# parametric_measurements"
   ]
  },
  {
   "cell_type": "code",
   "execution_count": 39,
   "metadata": {},
   "outputs": [
    {
     "data": {
      "text/plain": [
       "array([[0. +0.j , 0. +0.j , 0.5+0.5j, 0.5-0.5j],\n",
       "       [0. +0.j , 0. +0.j , 0.5-0.5j, 0.5+0.5j],\n",
       "       [0.5+0.5j, 0.5-0.5j, 0. +0.j , 0. +0.j ],\n",
       "       [0.5-0.5j, 0.5+0.5j, 0. +0.j , 0. +0.j ]])"
      ]
     },
     "execution_count": 39,
     "metadata": {},
     "output_type": "execute_result"
    }
   ],
   "source": [
    "x_gate_matrix = np.array(([0.0, 1.0], [1.0, 0.0]))\n",
    "sqrt_x = np.array([[ 0.5+0.5j,  0.5-0.5j],\n",
    "                [ 0.5-0.5j,  0.5+0.5j]])\n",
    "x_sqrt_x = np.kron(x_gate_matrix, sqrt_x)\n",
    "x_sqrt_x"
   ]
  },
  {
   "cell_type": "code",
   "execution_count": null,
   "metadata": {},
   "outputs": [],
   "source": []
  }
 ],
 "metadata": {
  "kernelspec": {
   "display_name": "Python 3",
   "language": "python",
   "name": "python3"
  },
  "language_info": {
   "codemirror_mode": {
    "name": "ipython",
    "version": 3
   },
   "file_extension": ".py",
   "mimetype": "text/x-python",
   "name": "python",
   "nbconvert_exporter": "python",
   "pygments_lexer": "ipython3",
   "version": "3.6.7"
  }
 },
 "nbformat": 4,
 "nbformat_minor": 2
}
